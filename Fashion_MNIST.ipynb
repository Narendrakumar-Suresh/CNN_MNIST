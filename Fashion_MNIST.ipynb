{
  "nbformat": 4,
  "nbformat_minor": 0,
  "metadata": {
    "colab": {
      "provenance": [],
      "gpuType": "T4",
      "authorship_tag": "ABX9TyPIzbS0b0mLrhGSKslHB2Z5",
      "include_colab_link": true
    },
    "kernelspec": {
      "name": "python3",
      "display_name": "Python 3"
    },
    "language_info": {
      "name": "python"
    },
    "accelerator": "GPU"
  },
  "cells": [
    {
      "cell_type": "markdown",
      "metadata": {
        "id": "view-in-github",
        "colab_type": "text"
      },
      "source": [
        "<a href=\"https://colab.research.google.com/github/Narendrakumar-Suresh/CNN_MNIST/blob/main/Fashion_MNIST.ipynb\" target=\"_parent\"><img src=\"https://colab.research.google.com/assets/colab-badge.svg\" alt=\"Open In Colab\"/></a>"
      ]
    },
    {
      "cell_type": "code",
      "execution_count": 34,
      "metadata": {
        "id": "R8adpNTM4-WA"
      },
      "outputs": [],
      "source": [
        "import torch\n",
        "import torch.nn as nn\n",
        "import torch.nn.functional as F\n",
        "import torchvision\n",
        "import torchvision.transforms as transforms\n",
        "import matplotlib.pyplot as plt\n",
        "import numpy as np"
      ]
    },
    {
      "cell_type": "code",
      "source": [
        "device = torch.device('cuda' if torch.cuda.is_available() else 'cpu')\n",
        "\n",
        "num_of_epochs=20\n",
        "batch_size=64\n",
        "learning_rate=0.0005"
      ],
      "metadata": {
        "id": "fz914kuh5E3L"
      },
      "execution_count": 35,
      "outputs": []
    },
    {
      "cell_type": "code",
      "source": [
        "transform=transforms.Compose([transforms.ToTensor(),transforms.Normalize((0.1307,),(0.3081,))])\n",
        "\n",
        "train_data=torchvision.datasets.FashionMNIST(root='./data',train=True,download=True,transform=transform)\n",
        "test_data=torchvision.datasets.FashionMNIST(root='./data',train=False,download=True,transform=transform)\n",
        "\n",
        "train_loader=torch.utils.data.DataLoader(train_data,batch_size=batch_size,shuffle=True)\n",
        "test_loder=torch.utils.data.DataLoader(test_data, batch_size=batch_size,shuffle=False)"
      ],
      "metadata": {
        "id": "2Dp-KIdn5GJX"
      },
      "execution_count": 36,
      "outputs": []
    },
    {
      "cell_type": "code",
      "source": [
        "class CNN(nn.Module):\n",
        "    def __init__(self):\n",
        "        super(CNN,self).__init__()\n",
        "\n",
        "        self.conv1=nn.Conv2d(1,32,3)\n",
        "        self.pool=nn.MaxPool2d(2,2)\n",
        "        self.conv2=nn.Conv2d(32,16,3)\n",
        "\n",
        "        self.fc1=nn.Linear(16*5*5,120)\n",
        "        self.fc2=nn.Linear(120,84)\n",
        "        self.fc3=nn.Linear(84,84)\n",
        "        self.fc4=nn.Linear(84,10)\n",
        "\n",
        "    def forward(self,x):\n",
        "        x=self.pool(F.relu(self.conv1(x)))\n",
        "        x=self.pool(F.relu(self.conv2(x)))\n",
        "        x=x.view(x.size(0),-1)\n",
        "        x=F.relu(self.fc1(x))\n",
        "        x=F.relu(self.fc2(x))\n",
        "        x=F.relu(self.fc3(x))\n",
        "        x=self.fc4(x)\n",
        "\n",
        "        return x"
      ],
      "metadata": {
        "id": "NFaGg9k95H3Y"
      },
      "execution_count": 37,
      "outputs": []
    },
    {
      "cell_type": "code",
      "source": [
        "model=CNN().to(device)\n",
        "\n",
        "criterion=nn.CrossEntropyLoss()\n",
        "optimizer=torch.optim.Adam(model.parameters(),lr=learning_rate)\n",
        "\n",
        "n_steps=len(train_loader)"
      ],
      "metadata": {
        "id": "B9VcA_ek5Id5"
      },
      "execution_count": 38,
      "outputs": []
    },
    {
      "cell_type": "code",
      "source": [
        "print('Training started')\n",
        "\n",
        "for epoch in range(num_of_epochs):\n",
        "    for i, (sample,label) in enumerate(train_loader):\n",
        "        sample=sample.to(device)\n",
        "        label=label.to(device)\n",
        "\n",
        "        output=model(sample)\n",
        "        loss=criterion(output,label)\n",
        "\n",
        "        optimizer.zero_grad()\n",
        "        loss.backward()\n",
        "        optimizer.step()\n",
        "    print(f'epoch{epoch+1}/{num_of_epochs}: loss: {loss.item():.4f}')\n",
        "\n",
        "print('Training Completed!!!')"
      ],
      "metadata": {
        "colab": {
          "base_uri": "https://localhost:8080/"
        },
        "id": "4qhreMPw5LIL",
        "outputId": "f6ee3fdc-d0e6-481e-b47b-b22e9b1e3365"
      },
      "execution_count": 32,
      "outputs": [
        {
          "output_type": "stream",
          "name": "stdout",
          "text": [
            "Training started\n",
            "epoch1/20: loss: 0.7430\n",
            "epoch2/20: loss: 0.3881\n",
            "epoch3/20: loss: 0.5240\n",
            "epoch4/20: loss: 0.4072\n",
            "epoch5/20: loss: 0.3557\n",
            "epoch6/20: loss: 0.3659\n",
            "epoch7/20: loss: 0.3399\n",
            "epoch8/20: loss: 0.2712\n",
            "epoch9/20: loss: 0.1721\n",
            "epoch10/20: loss: 0.2334\n",
            "epoch11/20: loss: 0.1455\n",
            "epoch12/20: loss: 0.2676\n",
            "epoch13/20: loss: 0.1855\n",
            "epoch14/20: loss: 0.0666\n",
            "epoch15/20: loss: 0.2465\n",
            "epoch16/20: loss: 0.2491\n",
            "epoch17/20: loss: 0.0698\n",
            "epoch18/20: loss: 0.2653\n",
            "epoch19/20: loss: 0.2018\n",
            "epoch20/20: loss: 0.0795\n",
            "Training Completed!!!\n"
          ]
        }
      ]
    },
    {
      "cell_type": "code",
      "source": [
        "with torch.no_grad():\n",
        "    n_correct=0\n",
        "    n_samples=0\n",
        "\n",
        "    n_correct_classes=[0 for _ in range(10)]\n",
        "    n_correct_samples=[0 for _ in range(10)]\n",
        "\n",
        "    for sample,label in test_loder:\n",
        "        sample=sample.to(device)\n",
        "        label=label.to(device)\n",
        "\n",
        "        output=model(sample)\n",
        "\n",
        "        prob=F.softmax(output,dim=1)\n",
        "        _,predicted=torch.max(prob,1)\n",
        "\n",
        "        n_samples += label.size(0)\n",
        "        n_correct += (predicted == label).sum().item()\n",
        "\n",
        "        for i in range(len(label)):\n",
        "            lab=label[i].item()\n",
        "            pred=predicted[i].item()\n",
        "\n",
        "            if lab == pred:\n",
        "                n_correct_classes[lab] += 1\n",
        "            n_correct_samples[lab] += 1\n",
        "\n",
        "    acc=100*(n_correct/n_samples)\n",
        "    print(f'Accuracy is {acc}%')\n",
        ""
      ],
      "metadata": {
        "colab": {
          "base_uri": "https://localhost:8080/"
        },
        "id": "JOWTPVi85NT6",
        "outputId": "c3f91471-e786-4a4a-9a96-4955988d8bf2"
      },
      "execution_count": 33,
      "outputs": [
        {
          "output_type": "stream",
          "name": "stdout",
          "text": [
            "Accuracy is 90.75999999999999%\n"
          ]
        }
      ]
    }
  ]
}
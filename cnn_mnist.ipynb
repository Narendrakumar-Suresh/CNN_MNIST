{
  "nbformat": 4,
  "nbformat_minor": 0,
  "metadata": {
    "colab": {
      "provenance": [],
      "gpuType": "T4"
    },
    "kernelspec": {
      "name": "python3",
      "display_name": "Python 3"
    },
    "language_info": {
      "name": "python"
    },
    "accelerator": "GPU"
  },
  "cells": [
    {
      "cell_type": "code",
      "execution_count": 16,
      "metadata": {
        "id": "ADpm0Rz8rBEL"
      },
      "outputs": [],
      "source": [
        "import torch\n",
        "import torch.nn as nn\n",
        "import torch.nn.functional as F\n",
        "import torchvision\n",
        "import torchvision.transforms as transforms\n",
        "import matplotlib.pyplot as plt\n",
        "import numpy as np"
      ]
    },
    {
      "cell_type": "code",
      "source": [
        "device=torch.device('cuda' if torch.cuda.is_available() else 'cpu')\n",
        "\n",
        "#hyperparameters\n",
        "num_epochs=10\n",
        "batch_size=64\n",
        "learning_rate=0.0005"
      ],
      "metadata": {
        "id": "FJqihTsTrcjb"
      },
      "execution_count": 17,
      "outputs": []
    },
    {
      "cell_type": "code",
      "source": [
        "transform=transforms.Compose(\n",
        "    [transforms.ToTensor(), transforms.Normalize((0.1307,),(0.3081,))]\n",
        ")\n",
        "\n",
        "train_data=torchvision.datasets.MNIST(root='./data',train=True,download=True,transform=transform)\n",
        "test_data=torchvision.datasets.MNIST(root='./data',train=False,download=True,transform=transform)\n",
        "\n",
        "train_loader=torch.utils.data.DataLoader(train_data, batch_size=batch_size,shuffle=True)\n",
        "test_loader=torch.utils.data.DataLoader(test_data, batch_size=batch_size,shuffle=False)"
      ],
      "metadata": {
        "id": "e0ojyrtrreO5"
      },
      "execution_count": 24,
      "outputs": []
    },
    {
      "cell_type": "code",
      "source": [
        "class CNN(nn.Module):\n",
        "    def __init__(self):\n",
        "        super(CNN,self).__init__()\n",
        "        self.conv1=nn.Conv2d(1,32,3)\n",
        "        self.pool=nn.MaxPool2d(2,2)\n",
        "        self.conv2=nn.Conv2d(32,16,3)\n",
        "\n",
        "        self.fc1=nn.Linear(16*5*5,120)\n",
        "        self.fc2=nn.Linear(120,84)\n",
        "        self.fc3=nn.Linear(84,10)\n",
        "\n",
        "    def forward(self,x):\n",
        "        x=self.pool(F.relu(self.conv1(x)))\n",
        "        x=self.pool(F.relu(self.conv2(x)))\n",
        "        x = x.view(x.size(0), -1)\n",
        "        x=F.relu(self.fc1(x))\n",
        "        x=F.relu(self.fc2(x))\n",
        "        x=self.fc3(x)\n",
        "\n",
        "        return x"
      ],
      "metadata": {
        "id": "KNz_BoxAriF5"
      },
      "execution_count": 25,
      "outputs": []
    },
    {
      "cell_type": "code",
      "source": [
        "model=CNN().to(device)\n",
        "criterion=nn.CrossEntropyLoss()\n",
        "optimizer = torch.optim.Adam(model.parameters(), lr=learning_rate)\n",
        "\n",
        "n_steps=len(train_loader)"
      ],
      "metadata": {
        "id": "mXM7hf0qrjZv"
      },
      "execution_count": 26,
      "outputs": []
    },
    {
      "cell_type": "code",
      "source": [
        "print('training started')\n",
        "for epoch in range(num_epochs):\n",
        "    for i,(image,sample) in enumerate(train_loader):\n",
        "        image=image.to(device)\n",
        "        sample=sample.to(device)\n",
        "\n",
        "        output=model(image)\n",
        "        loss=criterion(output,sample)\n",
        "\n",
        "        optimizer.zero_grad()\n",
        "        loss.backward()\n",
        "        optimizer.step()\n",
        "\n",
        "        if (i+1)%2000==0:\n",
        "            print(f'epoch{epoch+1}/{num_epochs}: loss: {loss.item():.4f}')\n",
        "\n",
        "print('Training Finished!!!')"
      ],
      "metadata": {
        "colab": {
          "base_uri": "https://localhost:8080/"
        },
        "id": "_BNevmUrrnDa",
        "outputId": "43fc0768-a918-4be4-94b5-95e93ade5f4d"
      },
      "execution_count": 27,
      "outputs": [
        {
          "output_type": "stream",
          "name": "stdout",
          "text": [
            "training started\n",
            "Training Finished!!!\n"
          ]
        }
      ]
    },
    {
      "source": [
        "with torch.no_grad():\n",
        "    n_correct = 0\n",
        "    n_samples = 0\n",
        "    n_class_correct = [0 for _ in range(10)]\n",
        "    n_samples_correct = [0 for _ in range(10)]\n",
        "\n",
        "    for images, labels in test_loader:\n",
        "        images = images.to(device)\n",
        "        labels = labels.to(device)\n",
        "        outputs = model(images)\n",
        "        probs = F.softmax(outputs, dim=1)  # Ensure proper probabilities\n",
        "        _, predicted = torch.max(probs, 1)\n",
        "        n_samples += labels.size(0)\n",
        "        n_correct += (predicted == labels).sum().item()\n",
        "\n",
        "        for i in range(len(labels)):\n",
        "            label = labels[i].item()  # Get the label for the current sample\n",
        "            pred = predicted[i].item()  # Get the prediction for the current sample\n",
        "\n",
        "            if label == pred:\n",
        "                n_class_correct[label] += 1\n",
        "            n_samples_correct[label] += 1\n",
        "\n",
        "    acc = 100.0 * n_correct / n_samples\n",
        "    print(f'Accuracy is {acc}%')"
      ],
      "cell_type": "code",
      "metadata": {
        "colab": {
          "base_uri": "https://localhost:8080/"
        },
        "id": "PHlfag7Ispji",
        "outputId": "5ef70703-02d4-4191-9039-904ab8d70b2c"
      },
      "execution_count": 28,
      "outputs": [
        {
          "output_type": "stream",
          "name": "stdout",
          "text": [
            "Accuracy is 99.04%\n"
          ]
        }
      ]
    }
  ]
}